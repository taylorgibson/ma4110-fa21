{
 "cells": [
  {
   "cell_type": "code",
   "execution_count": null,
   "id": "afdd1f5a-60d2-4cc7-9f17-368519e572fc",
   "metadata": {},
   "outputs": [],
   "source": [
    "from datascience import *\n",
    "import numpy as np\n",
    "import matplotlib\n",
    "%matplotlib inline\n",
    "import matplotlib.pyplot as plots\n",
    "plots.style.use('fivethirtyeight')"
   ]
  },
  {
   "cell_type": "markdown",
   "id": "c6215ee7-dc8d-4e7f-b71b-49e9a9744685",
   "metadata": {},
   "source": [
    "# Lesson 33: Regression Inference"
   ]
  },
  {
   "cell_type": "markdown",
   "id": "1d5c7065-d6b6-47e4-9d77-081495de07cb",
   "metadata": {},
   "source": [
    "Let's start by loading up the functions that have been used in the last few lessons"
   ]
  },
  {
   "cell_type": "code",
   "execution_count": null,
   "id": "8c40caf8-d924-4159-9648-b4f77995df08",
   "metadata": {},
   "outputs": [],
   "source": [
    "def standard_units(arr):\n",
    "    return (arr - np.average(arr))/np.std(arr)\n",
    "\n",
    "def correlation(t, x, y):\n",
    "    x_standard = standard_units(t.column(x))\n",
    "    y_standard = standard_units(t.column(y))\n",
    "    return np.average(x_standard * y_standard)\n",
    "\n",
    "def slope(t, x, y):\n",
    "    r = correlation(t, x, y)\n",
    "    y_sd = np.std(t.column(y))\n",
    "    x_sd = np.std(t.column(x))\n",
    "    return r * y_sd / x_sd\n",
    "\n",
    "def intercept(t, x, y):\n",
    "    x_mean = np.mean(t.column(x))\n",
    "    y_mean = np.mean(t.column(y))\n",
    "    return y_mean - slope(t, x, y)*x_mean\n",
    "\n",
    "def fitted_values(t, x, y):\n",
    "    \"\"\"Return an array of the regression estimates at all the x values\"\"\"\n",
    "    a = slope(t, x, y)\n",
    "    b = intercept(t, x, y)\n",
    "    return a*t.column(x) + b\n",
    "\n",
    "def residuals(t, x, y):\n",
    "    predictions = fitted_values(t, x, y)\n",
    "    return t.column(y) - predictions"
   ]
  },
  {
   "cell_type": "markdown",
   "id": "6691ff7e-5c9b-477e-b58a-894faa603ee3",
   "metadata": {},
   "source": [
    "This function will recreate the process of using a true line to generate a set of data assuming that points *should* fall on the line, but due to random errors get \"pushed\" away by a random amount for each point. The size of the \"push\" is comes from a random distribution with mean of 0 and standard deviation of 2."
   ]
  },
  {
   "cell_type": "code",
   "execution_count": null,
   "id": "5f577590-a9af-4f2d-84ac-33f740d7e60a",
   "metadata": {},
   "outputs": [],
   "source": [
    "def draw_and_compare(true_slope, true_int, sample_size):\n",
    "    # Chooses x-values from a distribution of mean 5 and SD of 2.5\n",
    "    # you can edit these values if you want!\n",
    "    x = np.random.normal(5, 2.5, sample_size)\n",
    "    xlims = np.array([np.min(x), np.max(x)])\n",
    "    \n",
    "    # Chooses errors from a distribution with mean 0 and SD of 2\n",
    "    # You can edit these values if you want!\n",
    "    errors = np.random.normal(0, 2, sample_size)\n",
    "    \n",
    "    # Computes the y-value on the \"true\" line, then adds the error amount\n",
    "    y = (true_slope * x + true_int) + errors\n",
    "    sample = Table().with_columns('x', x, 'y', y)\n",
    "\n",
    "    # This code creates the four graphs\n",
    "    sample.scatter('x', 'y')\n",
    "    plots.plot(xlims, true_slope*xlims + true_int, lw=2, color='green')\n",
    "    plots.title('True Line, and Points Created')\n",
    "    \n",
    "\n",
    "    sample.scatter('x', 'y')\n",
    "    plots.title('What We Get to See')\n",
    "\n",
    "    sample.scatter('x', 'y', fit_line=True)\n",
    "    plots.title('Regression Line: Estimate of True Line')\n",
    "\n",
    "    sample.scatter('x', 'y', fit_line=True)\n",
    "    plots.plot(xlims, true_slope*xlims + true_int, lw=2, color='green')\n",
    "    plots.title(\"Regression Line and True Line\")"
   ]
  },
  {
   "cell_type": "code",
   "execution_count": null,
   "id": "74fb0d97-dee1-40cc-8d25-f99c4399ac88",
   "metadata": {},
   "outputs": [],
   "source": [
    "draw_and_compare(1, 2, 50)"
   ]
  },
  {
   "cell_type": "markdown",
   "id": "496a1a55-9461-4540-88ac-5830d34f6501",
   "metadata": {},
   "source": [
    "## Making Predictions"
   ]
  },
  {
   "cell_type": "markdown",
   "id": "8b8a520e-13a8-4d05-9efd-2009d1c282e1",
   "metadata": {},
   "source": [
    "We'll load the `births` data set, but only keep those that occur between 225 days and 325 days, since those are the definitions of pre-term and post-term respectively as defined by the CDC. This ensures that we're analyzing only birth weights for babies that are considered \"full term\". Babies born premature or after full term may be considered outliers because they occur much less frequently and may not fit the pattern for full term babies."
   ]
  },
  {
   "cell_type": "code",
   "execution_count": null,
   "id": "61499607-bf86-443a-aa10-f47eef341385",
   "metadata": {},
   "outputs": [],
   "source": [
    "births = Table.read_table('data/baby.csv').where('Gestational Days', are.between(225, 325))\n",
    "births"
   ]
  },
  {
   "cell_type": "markdown",
   "id": "9eecdb1d-e83b-4379-84d8-3bacc92cba42",
   "metadata": {},
   "source": [
    "This data set is considered a single sample, albeit a somewhat large one. The population would be considered all full term babies ever born in the US, which is a data set far too large for us to ever think of collecting and analyzing. This single sample will however allow for some predictions to be made."
   ]
  },
  {
   "cell_type": "code",
   "execution_count": null,
   "id": "2fb8715b-9b5e-4947-bb50-7fd7dcb6d9aa",
   "metadata": {},
   "outputs": [],
   "source": [
    "births.scatter('Gestational Days', 'Birth Weight')"
   ]
  },
  {
   "cell_type": "code",
   "execution_count": null,
   "id": "ee6d27a7-a795-4a9a-9c0e-6d9238ab11be",
   "metadata": {},
   "outputs": [],
   "source": [
    "births.scatter('Gestational Days', 'Birth Weight', fit_line=True)"
   ]
  },
  {
   "cell_type": "code",
   "execution_count": null,
   "id": "3fd8854d-c7af-4c7b-bcfb-f58f16c78e88",
   "metadata": {},
   "outputs": [],
   "source": [
    "correlation(births, 'Gestational Days', 'Birth Weight')"
   ]
  },
  {
   "cell_type": "code",
   "execution_count": null,
   "id": "b8fff69f-bc7c-4d99-b377-acbe14800a74",
   "metadata": {},
   "outputs": [],
   "source": [
    "def prediction_at(t, x, y, x_value):\n",
    "    '''\n",
    "    t - table\n",
    "    x - label of x column\n",
    "    y - label of y column\n",
    "    x_value - the x value for which we want to predict y\n",
    "    '''\n",
    "    return slope(t, x, y) * x_value + intercept(t, x, y)"
   ]
  },
  {
   "cell_type": "code",
   "execution_count": null,
   "id": "b6d44b98-87c9-4a68-a077-512f50157d8f",
   "metadata": {},
   "outputs": [],
   "source": [
    "prediction_at_300 = prediction_at(births, 'Gestational Days', 'Birth Weight', 300)\n",
    "prediction_at_300"
   ]
  },
  {
   "cell_type": "code",
   "execution_count": null,
   "id": "72c240be-b1ca-4206-ad91-4777ee3d26ee",
   "metadata": {},
   "outputs": [],
   "source": [
    "births.scatter('Gestational Days', 'Birth Weight', fit_line=True)\n",
    "plots.plot([300, 300], [60, prediction_at_300], color='red', lw=2);"
   ]
  },
  {
   "cell_type": "markdown",
   "id": "eb6261e0-4a7f-4f38-9996-9d476d2e01b8",
   "metadata": {},
   "source": [
    "This is the best prediction we could make using this single sample. However, as we've learned previously we can bootstrap a single sample to generate new samples that will contain some similar tendencies of the population. It's essential that the bootstrap samples are created *with replacement*, otherwise you'll obtain the exact same sample each time.\n",
    "\n",
    "The code below will create 5 bootstrap samples to illustrate that this process does in fact create a new sample to work with each time."
   ]
  },
  {
   "cell_type": "code",
   "execution_count": null,
   "id": "ed43a8a9-30ca-490a-a5d2-10db9536cff9",
   "metadata": {},
   "outputs": [],
   "source": [
    "# You don't need to understand the plotting code in this cell,\n",
    "# but you should understand the figure that comes out.\n",
    "\n",
    "plots.figure(figsize=(10, 11))\n",
    "plots.subplot(3, 2, 1)\n",
    "plots.scatter(births[1], births[0], s=10, color='darkblue')\n",
    "plots.xlim([225, 325])\n",
    "plots.title('Original sample')\n",
    "\n",
    "for i in np.arange(1, 6, 1):\n",
    "    plots.subplot(3,2,i+1)\n",
    "    resampled = births.sample()\n",
    "    plots.scatter(resampled.column('Gestational Days'), resampled.column('Birth Weight'), s=10, color='tab:green')\n",
    "    plots.xlim([225, 325])\n",
    "    plots.title('Bootstrap sample '+str(i))\n",
    "plots.tight_layout()"
   ]
  },
  {
   "cell_type": "code",
   "execution_count": null,
   "id": "de377441-f1ca-4d69-9ba3-db11d8e5deca",
   "metadata": {},
   "outputs": [],
   "source": [
    "for i in np.arange(4):\n",
    "    resample = births.sample()\n",
    "    predicted_y = prediction_at(resample, 'Gestational Days', 'Birth Weight', 300)\n",
    "    print('Predicted y from bootstramp sample was', predicted_y)\n",
    "    resample.scatter('Gestational Days', 'Birth Weight', fit_line=True)\n",
    "    plots.scatter(300, predicted_y, color='gold', s=50, zorder=3);\n",
    "    plots.plot([300, 300], [60, predicted_y], color='red', lw=2);\n",
    "    plots.plot([200, 300], [predicted_y, predicted_y], color='red', lw=2);"
   ]
  },
  {
   "cell_type": "code",
   "execution_count": null,
   "id": "aa02fabb-76dd-4106-ace1-8c6221aff45b",
   "metadata": {},
   "outputs": [],
   "source": [
    "lines = Table(['slope','intercept', 'at 210', 'at 300', 'at 320'])\n",
    "\n",
    "for i in range(10):\n",
    "    resample = births.sample()\n",
    "    a = slope(resample, 'Gestational Days', 'Birth Weight')\n",
    "    b = intercept(resample, 'Gestational Days', 'Birth Weight')\n",
    "    lines.append([a, b, a * 210 + b, a * 300 + b, a * 320 + b])\n",
    "\n",
    "for i in np.arange(lines.num_rows):\n",
    "    line = lines.row(i)\n",
    "    plots.plot([210, 320], [line.item('at 210'), line.item('at 320')], lw=1)\n",
    "    plots.scatter(300, line.item('at 300'), s=30, zorder=3)"
   ]
  },
  {
   "cell_type": "markdown",
   "id": "b7d809f0-8abf-4cfb-a5a3-381c013a79bd",
   "metadata": {},
   "source": [
    "## Confidence Interval for Prediction"
   ]
  },
  {
   "cell_type": "code",
   "execution_count": null,
   "id": "de2e2756-638b-4e1c-95c1-f2edcaf32bda",
   "metadata": {},
   "outputs": [],
   "source": [
    "def bootstrap_prediction(t, x_col, y_col, x_value, repetitions=1000):\n",
    "    \"\"\" \n",
    "    Makes a 95% confidence interval for the prediction at new_x, using\n",
    "    linear regression on the data in t (column names x and y).\n",
    "    Shows a histogram of the bootstrap samples and shows the interval\n",
    "    in gold.\n",
    "    \"\"\"\n",
    "\n",
    "    # Bootstrap the scatter, predict, collect\n",
    "    predictions = make_array()\n",
    "    for i in np.arange(repetitions):\n",
    "        resample = t.sample()\n",
    "        predicted_y = prediction_at(resample, x_col, y_col, x_value)\n",
    "        predictions = np.append(predictions, predicted_y)\n",
    "\n",
    "    # Find the ends of the approximate 95% prediction interval\n",
    "    left = percentile(2.5, predictions)\n",
    "    right = percentile(97.5, predictions)\n",
    "\n",
    "    # Display results\n",
    "    Table().with_column('Prediction', predictions).hist(bins=20)\n",
    "    plots.xlabel('predictions at x='+str(x_value))\n",
    "    plots.plot([left, right], [0, 0], color='yellow', lw=8);\n",
    "    print('Approximate 95%-confidence interval for height of true line:')\n",
    "    print(left, right, '(width =', right - left, ')')"
   ]
  },
  {
   "cell_type": "code",
   "execution_count": null,
   "id": "0977ee23-5024-4796-97c4-388448b90005",
   "metadata": {},
   "outputs": [],
   "source": [
    "bootstrap_prediction(births, 'Gestational Days', 'Birth Weight', 300)"
   ]
  },
  {
   "cell_type": "markdown",
   "id": "8c2fd3ea-2e8b-4e48-9057-9357aded05ff",
   "metadata": {},
   "source": [
    "As you move away from the average x-value, the width of your prediction interval will grow, meaning your predictions will become less precise."
   ]
  },
  {
   "cell_type": "code",
   "execution_count": null,
   "id": "09e92b9e-9458-44e4-b79f-6f10ead89b23",
   "metadata": {},
   "outputs": [],
   "source": [
    "np.mean(births.column('Gestational Days'))"
   ]
  },
  {
   "cell_type": "code",
   "execution_count": null,
   "id": "28eb0af4-b26d-4ee1-bd7d-1cd36cca15a5",
   "metadata": {},
   "outputs": [],
   "source": [
    "bootstrap_prediction(births, 'Gestational Days', 'Birth Weight', 280)"
   ]
  },
  {
   "cell_type": "code",
   "execution_count": null,
   "id": "0ada473e-b9a6-444d-b3f3-ac345c515369",
   "metadata": {},
   "outputs": [],
   "source": [
    "bootstrap_prediction(births, 'Gestational Days', 'Birth Weight', 250)"
   ]
  },
  {
   "cell_type": "code",
   "execution_count": null,
   "id": "a9c56a9f-7046-49de-8d8f-1298dbcabd7e",
   "metadata": {},
   "outputs": [],
   "source": [
    "bootstrap_prediction(births, 'Gestational Days', 'Birth Weight', 220)"
   ]
  },
  {
   "cell_type": "code",
   "execution_count": null,
   "id": "a8656a62-1b41-4ea4-bac4-b4551455a6b3",
   "metadata": {},
   "outputs": [],
   "source": []
  }
 ],
 "metadata": {
  "kernelspec": {
   "display_name": "Python 3 (ipykernel)",
   "language": "python",
   "name": "python3"
  },
  "language_info": {
   "codemirror_mode": {
    "name": "ipython",
    "version": 3
   },
   "file_extension": ".py",
   "mimetype": "text/x-python",
   "name": "python",
   "nbconvert_exporter": "python",
   "pygments_lexer": "ipython3",
   "version": "3.9.6"
  }
 },
 "nbformat": 4,
 "nbformat_minor": 5
}
